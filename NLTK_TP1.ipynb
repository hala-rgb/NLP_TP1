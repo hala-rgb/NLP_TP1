{
 "cells": [
  {
   "cell_type": "markdown",
   "id": "f45922b6",
   "metadata": {},
   "source": [
    "# NLTK"
   ]
  },
  {
   "cell_type": "code",
   "execution_count": 8,
   "id": "b3cebba4",
   "metadata": {},
   "outputs": [],
   "source": [
    "import nltk, string"
   ]
  },
  {
   "cell_type": "markdown",
   "id": "047f68c3",
   "metadata": {},
   "source": [
    "#  1-english texte"
   ]
  },
  {
   "cell_type": "markdown",
   "id": "b6f54e84",
   "metadata": {},
   "source": [
    "#### english texte in lowercase"
   ]
  },
  {
   "cell_type": "code",
   "execution_count": 10,
   "id": "0f2e6628",
   "metadata": {},
   "outputs": [
    {
     "data": {
      "text/plain": [
       "'Perhaps one of the most significant advances made by Arabic mathematics began at this time with the work of al-Khwarizmi, namely the beginnings of algebra. It is important to understand just how significant this new idea was. It was a revolutionary move away from the Greek concept of mathematics which was essentially geometry. Algebra was a unifying theory which allowedrational numbers,irrational numbers, geometrical magnitudes, etc., to all be treated as \"algebraic objects\". It gave mathematics a whole new development path so much broader in concept to that which had existed before, and provided a vehicle for future development of the subject. Another important aspect of the introduction of algebraic ideas was that it allowed mathematics to be applied to itselfin a way which had not happened before.'"
      ]
     },
     "execution_count": 10,
     "metadata": {},
     "output_type": "execute_result"
    }
   ],
   "source": [
    "text_en = \"\"\"Perhaps one of the most significant advances made by Arabic mathematics began at this time with the work of al-Khwarizmi, namely the beginnings of algebra. It is important to understand just how significant this new idea was. It was a revolutionary move away from the Greek concept of mathematics which was essentially geometry. Algebra was a unifying theory which allowedrational numbers,irrational numbers, geometrical magnitudes, etc., to all be treated as \\\"algebraic objects\\\". It gave mathematics a whole new development path so much broader in concept to that which had existed before, and provided a vehicle for future development of the subject. Another important aspect of the introduction of algebraic ideas was that it allowed mathematics to be applied to itselfin a way which had not happened before.\"\"\"\n",
    "text_en "
   ]
  },
  {
   "cell_type": "code",
   "execution_count": 13,
   "id": "036831e7",
   "metadata": {},
   "outputs": [
    {
     "data": {
      "text/plain": [
       "'perhaps one of the most significant advances made by arabic mathematics began at this time with the work of al-khwarizmi, namely the beginnings of algebra. it is important to understand just how significant this new idea was. it was a revolutionary move away from the greek concept of mathematics which was essentially geometry. algebra was a unifying theory which allowedrational numbers,irrational numbers, geometrical magnitudes, etc., to all be treated as \"algebraic objects\". it gave mathematics a whole new development path so much broader in concept to that which had existed before, and provided a vehicle for future development of the subject. another important aspect of the introduction of algebraic ideas was that it allowed mathematics to be applied to itselfin a way which had not happened before.'"
      ]
     },
     "execution_count": 13,
     "metadata": {},
     "output_type": "execute_result"
    }
   ],
   "source": [
    "text_en=text_en.lower()\n",
    "text_en"
   ]
  },
  {
   "cell_type": "markdown",
   "id": "150ff255",
   "metadata": {},
   "source": [
    "#####  eliminate punctuation"
   ]
  },
  {
   "cell_type": "code",
   "execution_count": 17,
   "id": "7cabec11",
   "metadata": {},
   "outputs": [
    {
     "data": {
      "text/plain": [
       "'perhaps one of the most significant advances made by arabic mathematics began at this time with the work of alkhwarizmi namely the beginnings of algebra it is important to understand just how significant this new idea was it was a revolutionary move away from the greek concept of mathematics which was essentially geometry algebra was a unifying theory which allowedrational numbersirrational numbers geometrical magnitudes etc to all be treated as algebraic objects it gave mathematics a whole new development path so much broader in concept to that which had existed before and provided a vehicle for future development of the subject another important aspect of the introduction of algebraic ideas was that it allowed mathematics to be applied to itselfin a way which had not happened before'"
      ]
     },
     "execution_count": 17,
     "metadata": {},
     "output_type": "execute_result"
    }
   ],
   "source": [
    "import re\n",
    "text_en_nopunc= re.sub(r'[^\\w\\s]','',text_en)\n",
    "text_en_nopunc"
   ]
  },
  {
   "cell_type": "markdown",
   "id": "08b3f4c1",
   "metadata": {},
   "source": [
    "## 1-Tokinization"
   ]
  },
  {
   "cell_type": "code",
   "execution_count": 18,
   "id": "237275e9",
   "metadata": {},
   "outputs": [],
   "source": [
    "from nltk.tokenize import sent_tokenize, word_tokenize"
   ]
  },
  {
   "cell_type": "code",
   "execution_count": 61,
   "id": "1d5a0583",
   "metadata": {},
   "outputs": [
    {
     "name": "stdout",
     "output_type": "stream",
     "text": [
      "['perhaps', 'one', 'of', 'the', 'most', 'significant', 'advances', 'made', 'by', 'arabic', 'mathematics', 'began', 'at', 'this', 'time', 'with', 'the', 'work', 'of', 'alkhwarizmi', 'namely', 'the', 'beginnings', 'of', 'algebra', 'it', 'is', 'important', 'to', 'understand', 'just', 'how', 'significant', 'this', 'new', 'idea', 'was', 'it', 'was', 'a', 'revolutionary', 'move', 'away', 'from', 'the', 'greek', 'concept', 'of', 'mathematics', 'which', 'was', 'essentially', 'geometry', 'algebra', 'was', 'a', 'unifying', 'theory', 'which', 'allowedrational', 'numbersirrational', 'numbers', 'geometrical', 'magnitudes', 'etc', 'to', 'all', 'be', 'treated', 'as', 'algebraic', 'objects', 'it', 'gave', 'mathematics', 'a', 'whole', 'new', 'development', 'path', 'so', 'much', 'broader', 'in', 'concept', 'to', 'that', 'which', 'had', 'existed', 'before', 'and', 'provided', 'a', 'vehicle', 'for', 'future', 'development', 'of', 'the', 'subject', 'another', 'important', 'aspect', 'of', 'the', 'introduction', 'of', 'algebraic', 'ideas', 'was', 'that', 'it', 'allowed', 'mathematics', 'to', 'be', 'applied', 'to', 'itselfin', 'a', 'way', 'which', 'had', 'not', 'happened', 'before']\n"
     ]
    }
   ],
   "source": [
    "#word Tokenization\n",
    "words = word_tokenize(text_en_nopunc)\n",
    "print(words)"
   ]
  },
  {
   "cell_type": "code",
   "execution_count": 20,
   "id": "dd49be1d",
   "metadata": {},
   "outputs": [
    {
     "data": {
      "text/plain": [
       "['perhaps one of the most significant advances made by arabic mathematics began at this time with the work of al-khwarizmi, namely the beginnings of algebra.',\n",
       " 'it is important to understand just how significant this new idea was.',\n",
       " 'it was a revolutionary move away from the greek concept of mathematics which was essentially geometry.',\n",
       " 'algebra was a unifying theory which allowedrational numbers,irrational numbers, geometrical magnitudes, etc., to all be treated as \"algebraic objects\".',\n",
       " 'it gave mathematics a whole new development path so much broader in concept to that which had existed before, and provided a vehicle for future development of the subject.',\n",
       " 'another important aspect of the introduction of algebraic ideas was that it allowed mathematics to be applied to itselfin a way which had not happened before.']"
      ]
     },
     "execution_count": 20,
     "metadata": {},
     "output_type": "execute_result"
    }
   ],
   "source": [
    "#Tokenizing by sentence\n",
    "sent = sent_tokenize(text_en)\n",
    "sent"
   ]
  },
  {
   "cell_type": "code",
   "execution_count": 22,
   "id": "7fdaa176",
   "metadata": {},
   "outputs": [
    {
     "name": "stderr",
     "output_type": "stream",
     "text": [
      "[nltk_data] Downloading package stopwords to\n",
      "[nltk_data]     C:\\Users\\HALA\\AppData\\Roaming\\nltk_data...\n",
      "[nltk_data]   Package stopwords is already up-to-date!\n"
     ]
    }
   ],
   "source": [
    "#Filtering Stop Words\n",
    "nltk.download(\"stopwords\")\n",
    "from nltk.corpus import stopwords\n",
    "stop_words_en = set(stopwords.words(\"english\"))"
   ]
  },
  {
   "cell_type": "code",
   "execution_count": 62,
   "id": "d77339cc",
   "metadata": {},
   "outputs": [
    {
     "name": "stdout",
     "output_type": "stream",
     "text": [
      "{'m', 'no', 'same', 'didn', 'our', 'why', 'over', 'as', 'about', 'myself', 'll', 'isn', 'herself', 'only', 'with', 'aren', 'their', 'her', 'further', 'a', 'or', \"aren't\", 'hadn', 'weren', 'does', \"should've\", 'under', 'himself', 'being', 'out', 'shan', 'do', \"she's\", 'against', 'above', 'ain', \"shouldn't\", 'don', 'will', 'she', 'most', 'such', 's', 'few', \"isn't\", 'before', 'won', 'how', 'from', 'ours', 'that', 'off', 'had', \"didn't\", 'his', 'than', 've', \"haven't\", 'to', \"wasn't\", 'is', 'haven', 'until', 'needn', 'shouldn', 'itself', 'the', \"weren't\", 'him', 'but', 'down', 'these', 'if', 'been', 'other', \"hasn't\", 'during', 'are', 'yours', 'into', 'and', 'after', 'he', 'not', 'too', 'when', 'then', 'your', 'between', \"that'll\", 'at', 'they', 'because', 'what', 'where', 'any', 'wasn', \"hadn't\", 'be', 'own', 'all', 'by', 'each', 'while', 'of', 'd', \"doesn't\", \"you'd\", 'have', \"it's\", 'some', \"don't\", 'more', 'ourselves', 'in', 'did', 'this', 't', 'couldn', 'doing', 'can', \"you're\", 'hasn', 'me', 'were', 'below', \"mightn't\", 'its', 'here', 'those', \"you've\", \"you'll\", 'again', 'mustn', 'was', 'having', 'yourselves', 'nor', 'up', 'y', 'mightn', 'which', 'there', 'just', 'both', 'whom', 'doesn', 'themselves', 'an', 'has', 'them', 'ma', \"needn't\", 'i', 'very', 'once', 'now', \"shan't\", 'through', \"won't\", 'we', 'you', 'theirs', 'my', \"couldn't\", 'hers', 'on', 'should', 'so', 'it', 'o', 'for', 'who', \"mustn't\", 'wouldn', 'am', \"wouldn't\", 'yourself', 're'}\n"
     ]
    }
   ],
   "source": [
    "print(stop_words_en)"
   ]
  },
  {
   "cell_type": "code",
   "execution_count": 24,
   "id": "dbcefe33",
   "metadata": {},
   "outputs": [],
   "source": [
    "#Filtering Words not stopwords\n",
    "liste_words = []\n",
    "for x in words:\n",
    "    if x.casefold() not in stop_words_en:\n",
    "        liste_words.append(x)"
   ]
  },
  {
   "cell_type": "code",
   "execution_count": 63,
   "id": "25e17238",
   "metadata": {},
   "outputs": [
    {
     "name": "stdout",
     "output_type": "stream",
     "text": [
      "['perhaps', 'one', 'significant', 'advances', 'made', 'arabic', 'mathematics', 'began', 'time', 'work', 'alkhwarizmi', 'namely', 'beginnings', 'algebra', 'important', 'understand', 'significant', 'new', 'idea', 'revolutionary', 'move', 'away', 'greek', 'concept', 'mathematics', 'essentially', 'geometry', 'algebra', 'unifying', 'theory', 'allowedrational', 'numbersirrational', 'numbers', 'geometrical', 'magnitudes', 'etc', 'treated', 'algebraic', 'objects', 'gave', 'mathematics', 'whole', 'new', 'development', 'path', 'much', 'broader', 'concept', 'existed', 'provided', 'vehicle', 'future', 'development', 'subject', 'another', 'important', 'aspect', 'introduction', 'algebraic', 'ideas', 'allowed', 'mathematics', 'applied', 'itselfin', 'way', 'happened']\n"
     ]
    }
   ],
   "source": [
    "print(liste_words)"
   ]
  },
  {
   "cell_type": "markdown",
   "id": "04031aa4",
   "metadata": {},
   "source": [
    "## 2-stemming"
   ]
  },
  {
   "cell_type": "code",
   "execution_count": 31,
   "id": "a592a031",
   "metadata": {},
   "outputs": [],
   "source": [
    "from nltk.stem import PorterStemmer\n",
    "\n"
   ]
  },
  {
   "cell_type": "code",
   "execution_count": 64,
   "id": "c3f86d74",
   "metadata": {},
   "outputs": [
    {
     "name": "stdout",
     "output_type": "stream",
     "text": [
      "['perhap', 'one', 'signific', 'advanc', 'made', 'arab', 'mathemat', 'began', 'time', 'work', 'alkhwarizmi', 'name', 'begin', 'algebra', 'import', 'understand', 'signific', 'new', 'idea', 'revolutionari', 'move', 'away', 'greek', 'concept', 'mathemat', 'essenti', 'geometri', 'algebra', 'unifi', 'theori', 'allowedr', 'numbersirr', 'number', 'geometr', 'magnitud', 'etc', 'treat', 'algebra', 'object', 'gave', 'mathemat', 'whole', 'new', 'develop', 'path', 'much', 'broader', 'concept', 'exist', 'provid', 'vehicl', 'futur', 'develop', 'subject', 'anoth', 'import', 'aspect', 'introduct', 'algebra', 'idea', 'allow', 'mathemat', 'appli', 'itselfin', 'way', 'happen']\n"
     ]
    }
   ],
   "source": [
    "Stemmer= PorterStemmer()\n",
    "worldstemmed=[Stemmer.stem(x) for x in liste_words]\n",
    "print(worldstemmed)\n"
   ]
  },
  {
   "cell_type": "markdown",
   "id": "7bc0bad6",
   "metadata": {},
   "source": [
    "## 3-POS Tagging "
   ]
  },
  {
   "cell_type": "code",
   "execution_count": 39,
   "id": "f4362e04",
   "metadata": {},
   "outputs": [
    {
     "data": {
      "text/plain": [
       "[('perhaps', 'RB'),\n",
       " ('one', 'CD'),\n",
       " ('of', 'IN'),\n",
       " ('the', 'DT'),\n",
       " ('most', 'RBS'),\n",
       " ('significant', 'JJ'),\n",
       " ('advances', 'NNS'),\n",
       " ('made', 'VBN'),\n",
       " ('by', 'IN'),\n",
       " ('arabic', 'JJ'),\n",
       " ('mathematics', 'NNS'),\n",
       " ('began', 'VBD'),\n",
       " ('at', 'IN'),\n",
       " ('this', 'DT'),\n",
       " ('time', 'NN'),\n",
       " ('with', 'IN'),\n",
       " ('the', 'DT'),\n",
       " ('work', 'NN'),\n",
       " ('of', 'IN'),\n",
       " ('alkhwarizmi', 'NN'),\n",
       " ('namely', 'RB'),\n",
       " ('the', 'DT'),\n",
       " ('beginnings', 'NNS'),\n",
       " ('of', 'IN'),\n",
       " ('algebra', 'NN'),\n",
       " ('it', 'PRP'),\n",
       " ('is', 'VBZ'),\n",
       " ('important', 'JJ'),\n",
       " ('to', 'TO'),\n",
       " ('understand', 'VB'),\n",
       " ('just', 'RB'),\n",
       " ('how', 'WRB'),\n",
       " ('significant', 'JJ'),\n",
       " ('this', 'DT'),\n",
       " ('new', 'JJ'),\n",
       " ('idea', 'NN'),\n",
       " ('was', 'VBD'),\n",
       " ('it', 'PRP'),\n",
       " ('was', 'VBD'),\n",
       " ('a', 'DT'),\n",
       " ('revolutionary', 'JJ'),\n",
       " ('move', 'NN'),\n",
       " ('away', 'RB'),\n",
       " ('from', 'IN'),\n",
       " ('the', 'DT'),\n",
       " ('greek', 'JJ'),\n",
       " ('concept', 'NN'),\n",
       " ('of', 'IN'),\n",
       " ('mathematics', 'NNS'),\n",
       " ('which', 'WDT'),\n",
       " ('was', 'VBD'),\n",
       " ('essentially', 'RB'),\n",
       " ('geometry', 'JJ'),\n",
       " ('algebra', 'NN'),\n",
       " ('was', 'VBD'),\n",
       " ('a', 'DT'),\n",
       " ('unifying', 'JJ'),\n",
       " ('theory', 'NN'),\n",
       " ('which', 'WDT'),\n",
       " ('allowedrational', 'JJ'),\n",
       " ('numbersirrational', 'JJ'),\n",
       " ('numbers', 'NNS'),\n",
       " ('geometrical', 'JJ'),\n",
       " ('magnitudes', 'NNS'),\n",
       " ('etc', 'VBP'),\n",
       " ('to', 'TO'),\n",
       " ('all', 'DT'),\n",
       " ('be', 'VB'),\n",
       " ('treated', 'VBN'),\n",
       " ('as', 'IN'),\n",
       " ('algebraic', 'JJ'),\n",
       " ('objects', 'NNS'),\n",
       " ('it', 'PRP'),\n",
       " ('gave', 'VBD'),\n",
       " ('mathematics', 'NNS'),\n",
       " ('a', 'DT'),\n",
       " ('whole', 'JJ'),\n",
       " ('new', 'JJ'),\n",
       " ('development', 'NN'),\n",
       " ('path', 'NN'),\n",
       " ('so', 'RB'),\n",
       " ('much', 'JJ'),\n",
       " ('broader', 'JJR'),\n",
       " ('in', 'IN'),\n",
       " ('concept', 'NN'),\n",
       " ('to', 'TO'),\n",
       " ('that', 'DT'),\n",
       " ('which', 'WDT'),\n",
       " ('had', 'VBD'),\n",
       " ('existed', 'VBN'),\n",
       " ('before', 'IN'),\n",
       " ('and', 'CC'),\n",
       " ('provided', 'VBD'),\n",
       " ('a', 'DT'),\n",
       " ('vehicle', 'NN'),\n",
       " ('for', 'IN'),\n",
       " ('future', 'JJ'),\n",
       " ('development', 'NN'),\n",
       " ('of', 'IN'),\n",
       " ('the', 'DT'),\n",
       " ('subject', 'NN'),\n",
       " ('another', 'DT'),\n",
       " ('important', 'JJ'),\n",
       " ('aspect', 'NN'),\n",
       " ('of', 'IN'),\n",
       " ('the', 'DT'),\n",
       " ('introduction', 'NN'),\n",
       " ('of', 'IN'),\n",
       " ('algebraic', 'JJ'),\n",
       " ('ideas', 'NNS'),\n",
       " ('was', 'VBD'),\n",
       " ('that', 'IN'),\n",
       " ('it', 'PRP'),\n",
       " ('allowed', 'VBD'),\n",
       " ('mathematics', 'NNS'),\n",
       " ('to', 'TO'),\n",
       " ('be', 'VB'),\n",
       " ('applied', 'VBN'),\n",
       " ('to', 'TO'),\n",
       " ('itselfin', 'VB'),\n",
       " ('a', 'DT'),\n",
       " ('way', 'NN'),\n",
       " ('which', 'WDT'),\n",
       " ('had', 'VBD'),\n",
       " ('not', 'RB'),\n",
       " ('happened', 'VBN'),\n",
       " ('before', 'IN')]"
      ]
     },
     "execution_count": 39,
     "metadata": {},
     "output_type": "execute_result"
    }
   ],
   "source": [
    "eng_pos_tag = nltk.pos_tag(words)\n",
    "eng_pos_tag\n"
   ]
  },
  {
   "cell_type": "markdown",
   "id": "1f45eac4",
   "metadata": {},
   "source": [
    "## 4-lemmatization"
   ]
  },
  {
   "cell_type": "code",
   "execution_count": 41,
   "id": "8fa1864b",
   "metadata": {},
   "outputs": [
    {
     "name": "stderr",
     "output_type": "stream",
     "text": [
      "[nltk_data] Downloading package wordnet to\n",
      "[nltk_data]     C:\\Users\\HALA\\AppData\\Roaming\\nltk_data...\n",
      "[nltk_data]   Package wordnet is already up-to-date!\n"
     ]
    },
    {
     "data": {
      "text/plain": [
       "True"
      ]
     },
     "execution_count": 41,
     "metadata": {},
     "output_type": "execute_result"
    }
   ],
   "source": [
    "from nltk.stem import WordNetLemmatizer\n",
    "nltk.download('wordnet')\n"
   ]
  },
  {
   "cell_type": "code",
   "execution_count": 44,
   "id": "4d36fa25",
   "metadata": {},
   "outputs": [
    {
     "name": "stdout",
     "output_type": "stream",
     "text": [
      "perhaps\n",
      "one\n",
      "of\n",
      "the\n",
      "most\n",
      "significant\n",
      "advance\n",
      "made\n",
      "by\n",
      "arabic\n",
      "mathematics\n",
      "began\n",
      "at\n",
      "this\n",
      "time\n",
      "with\n",
      "the\n",
      "work\n",
      "of\n",
      "alkhwarizmi\n",
      "namely\n",
      "the\n",
      "beginning\n",
      "of\n",
      "algebra\n",
      "it\n",
      "is\n",
      "important\n",
      "to\n",
      "understand\n",
      "just\n",
      "how\n",
      "significant\n",
      "this\n",
      "new\n",
      "idea\n",
      "wa\n",
      "it\n",
      "wa\n",
      "a\n",
      "revolutionary\n",
      "move\n",
      "away\n",
      "from\n",
      "the\n",
      "greek\n",
      "concept\n",
      "of\n",
      "mathematics\n",
      "which\n",
      "wa\n",
      "essentially\n",
      "geometry\n",
      "algebra\n",
      "wa\n",
      "a\n",
      "unifying\n",
      "theory\n",
      "which\n",
      "allowedrational\n",
      "numbersirrational\n",
      "number\n",
      "geometrical\n",
      "magnitude\n",
      "etc\n",
      "to\n",
      "all\n",
      "be\n",
      "treated\n",
      "a\n",
      "algebraic\n",
      "object\n",
      "it\n",
      "gave\n",
      "mathematics\n",
      "a\n",
      "whole\n",
      "new\n",
      "development\n",
      "path\n",
      "so\n",
      "much\n",
      "broader\n",
      "in\n",
      "concept\n",
      "to\n",
      "that\n",
      "which\n",
      "had\n",
      "existed\n",
      "before\n",
      "and\n",
      "provided\n",
      "a\n",
      "vehicle\n",
      "for\n",
      "future\n",
      "development\n",
      "of\n",
      "the\n",
      "subject\n",
      "another\n",
      "important\n",
      "aspect\n",
      "of\n",
      "the\n",
      "introduction\n",
      "of\n",
      "algebraic\n",
      "idea\n",
      "wa\n",
      "that\n",
      "it\n",
      "allowed\n",
      "mathematics\n",
      "to\n",
      "be\n",
      "applied\n",
      "to\n",
      "itselfin\n",
      "a\n",
      "way\n",
      "which\n",
      "had\n",
      "not\n",
      "happened\n",
      "before\n"
     ]
    }
   ],
   "source": [
    "lem=WordNetLemmatizer()\n",
    "for x in words:\n",
    "  print(lem.lemmatize(x))"
   ]
  },
  {
   "cell_type": "markdown",
   "id": "46b289bd",
   "metadata": {},
   "source": [
    "# import ARABIC texte"
   ]
  },
  {
   "cell_type": "code",
   "execution_count": 45,
   "id": "6107921f",
   "metadata": {},
   "outputs": [],
   "source": [
    "text_ara =\"\"\"ربما كانت أحد أهم التطورات التي قامت بها الرياضيات العربية التي بدأت في هذا الوقت بعمل الخوارزمي وهي بدايات الجبر, ومن المهم فهم كيف كانت هذه الفكرة الجديدة مهمة, فقد كانت خطوة نورية بعيدا عن المفهوم اليوناني للرياضيات التي هي في جوهرها هندسة, الجبر کان نظرية موحدة تتيح الأعداد الكسرية والأعداد اللا كسرية, والمقادير الهندسية وغيرها, أن تتعامل على أنها أجسام جبرية, وأعطت الرياضيات ككل مسارا جديدا للتطور بمفهوم أوسع بكثير من الذي كان موجودا من قبل, وقم وسيلة للتنمية في هذا الموضوع مستقبلا. وجانب آخر مهم لإدخال أفكار الجبر وهو أنه سمح بتطبيق الرياضيات على نفسها بطريقة لم تحدث من قبل\"\"\""
   ]
  },
  {
   "cell_type": "code",
   "execution_count": 46,
   "id": "71dbb98f",
   "metadata": {},
   "outputs": [
    {
     "data": {
      "text/plain": [
       "'ربما كانت أحد أهم التطورات التي قامت بها الرياضيات العربية التي بدأت في هذا الوقت بعمل الخوارزمي وهي بدايات الجبر, ومن المهم فهم كيف كانت هذه الفكرة الجديدة مهمة, فقد كانت خطوة نورية بعيدا عن المفهوم اليوناني للرياضيات التي هي في جوهرها هندسة, الجبر کان نظرية موحدة تتيح الأعداد الكسرية والأعداد اللا كسرية, والمقادير الهندسية وغيرها, أن تتعامل على أنها أجسام جبرية, وأعطت الرياضيات ككل مسارا جديدا للتطور بمفهوم أوسع بكثير من الذي كان موجودا من قبل, وقم وسيلة للتنمية في هذا الموضوع مستقبلا. وجانب آخر مهم لإدخال أفكار الجبر وهو أنه سمح بتطبيق الرياضيات على نفسها بطريقة لم تحدث من قبل'"
      ]
     },
     "execution_count": 46,
     "metadata": {},
     "output_type": "execute_result"
    }
   ],
   "source": [
    "text_ara"
   ]
  },
  {
   "cell_type": "markdown",
   "id": "d4c4297e",
   "metadata": {},
   "source": [
    "#####  eliminate punctuation"
   ]
  },
  {
   "cell_type": "code",
   "execution_count": 47,
   "id": "b8b2c6be",
   "metadata": {},
   "outputs": [],
   "source": [
    "text_ara_nopunc= ''.join([x for x in text_ara if x not in string.punctuation])"
   ]
  },
  {
   "cell_type": "code",
   "execution_count": 49,
   "id": "15e7ccc2",
   "metadata": {},
   "outputs": [
    {
     "data": {
      "text/plain": [
       "'ربما كانت أحد أهم التطورات التي قامت بها الرياضيات العربية التي بدأت في هذا الوقت بعمل الخوارزمي وهي بدايات الجبر ومن المهم فهم كيف كانت هذه الفكرة الجديدة مهمة فقد كانت خطوة نورية بعيدا عن المفهوم اليوناني للرياضيات التي هي في جوهرها هندسة الجبر کان نظرية موحدة تتيح الأعداد الكسرية والأعداد اللا كسرية والمقادير الهندسية وغيرها أن تتعامل على أنها أجسام جبرية وأعطت الرياضيات ككل مسارا جديدا للتطور بمفهوم أوسع بكثير من الذي كان موجودا من قبل وقم وسيلة للتنمية في هذا الموضوع مستقبلا وجانب آخر مهم لإدخال أفكار الجبر وهو أنه سمح بتطبيق الرياضيات على نفسها بطريقة لم تحدث من قبل'"
      ]
     },
     "execution_count": 49,
     "metadata": {},
     "output_type": "execute_result"
    }
   ],
   "source": [
    "text_ara_nopunc"
   ]
  },
  {
   "cell_type": "markdown",
   "id": "f0a161d2",
   "metadata": {},
   "source": [
    "## 1-Tokenization"
   ]
  },
  {
   "cell_type": "code",
   "execution_count": 67,
   "id": "9e20faff",
   "metadata": {},
   "outputs": [
    {
     "name": "stdout",
     "output_type": "stream",
     "text": [
      "['perhaps', 'one', 'of', 'the', 'most', 'significant', 'advances', 'made', 'by', 'arabic', 'mathematics', 'began', 'at', 'this', 'time', 'with', 'the', 'work', 'of', 'alkhwarizmi', 'namely', 'the', 'beginnings', 'of', 'algebra', 'it', 'is', 'important', 'to', 'understand', 'just', 'how', 'significant', 'this', 'new', 'idea', 'was', 'it', 'was', 'a', 'revolutionary', 'move', 'away', 'from', 'the', 'greek', 'concept', 'of', 'mathematics', 'which', 'was', 'essentially', 'geometry', 'algebra', 'was', 'a', 'unifying', 'theory', 'which', 'allowedrational', 'numbersirrational', 'numbers', 'geometrical', 'magnitudes', 'etc', 'to', 'all', 'be', 'treated', 'as', 'algebraic', 'objects', 'it', 'gave', 'mathematics', 'a', 'whole', 'new', 'development', 'path', 'so', 'much', 'broader', 'in', 'concept', 'to', 'that', 'which', 'had', 'existed', 'before', 'and', 'provided', 'a', 'vehicle', 'for', 'future', 'development', 'of', 'the', 'subject', 'another', 'important', 'aspect', 'of', 'the', 'introduction', 'of', 'algebraic', 'ideas', 'was', 'that', 'it', 'allowed', 'mathematics', 'to', 'be', 'applied', 'to', 'itselfin', 'a', 'way', 'which', 'had', 'not', 'happened', 'before']\n"
     ]
    }
   ],
   "source": [
    "words_arabic = word_tokenize(text_ara_nopunc)\n",
    "print(words)\n"
   ]
  },
  {
   "cell_type": "markdown",
   "id": "7f3c930e",
   "metadata": {},
   "source": [
    "## 2-Stemming"
   ]
  },
  {
   "cell_type": "code",
   "execution_count": 70,
   "id": "52529dd3",
   "metadata": {},
   "outputs": [
    {
     "name": "stdout",
     "output_type": "stream",
     "text": [
      "['ربم', 'كان', 'احد', 'اهم', 'تطور', 'الت', 'قام', 'بها', 'رياض', 'عرب', 'الت', 'بدء', 'في', 'هذا', 'وقت', 'عمل', 'خوارزم', 'وه', 'دايا', 'جبر', 'ومن', 'مهم', 'فهم', 'كيف', 'كان', 'هذه', 'فكر', 'جديد', 'مهم', 'فقد', 'كان', 'خطو', 'نور', 'عيد', 'عن', 'مفهوم', 'يونان', 'رياض', 'الت', 'هي', 'في', 'جوهر', 'هندس', 'جبر', 'کان', 'نظر', 'موحد', 'تتيح', 'اعداد', 'كسر', 'والاعداد', 'اللا', 'كسر', 'والمقادير', 'هندس', 'غير', 'ان', 'تتعامل', 'علي', 'انه', 'اجسام', 'جبر', 'اعط', 'رياض', 'ككل', 'مسار', 'جديد', 'تطور', 'مفهوم', 'اوسع', 'كثير', 'من', 'الذ', 'كان', 'موجود', 'من', 'قبل', 'وقم', 'سيل', 'تنم', 'في', 'هذا', 'موضوع', 'مستقبل', 'جانب', 'اخر', 'مهم', 'لادخال', 'افكار', 'جبر', 'وهو', 'انه', 'سمح', 'تطبيق', 'رياض', 'علي', 'نفس', 'طريق', 'لم', 'تحدث', 'من', 'قبل']\n"
     ]
    }
   ],
   "source": [
    "from snowballstemmer import stemmer\n",
    "stemmer_arabic = stemmer(\"arabic\")\n",
    "\n",
    "arabic_words_stem = [stemmer_arabic.stemWord(word) for word in words_arabic]\n",
    "print(arabic_words_stem)"
   ]
  },
  {
   "cell_type": "markdown",
   "id": "1a72eb99",
   "metadata": {},
   "source": [
    "## 3-POS Tagger "
   ]
  },
  {
   "cell_type": "code",
   "execution_count": 72,
   "id": "b6e2d146",
   "metadata": {},
   "outputs": [
    {
     "name": "stdout",
     "output_type": "stream",
     "text": [
      "[('ربما', 'JJ'), ('كانت', 'NNP'), ('أحد', 'NNP'), ('أهم', 'NNP'), ('التطورات', 'NNP'), ('التي', 'NNP'), ('قامت', 'NNP'), ('بها', 'NNP'), ('الرياضيات', 'NNP'), ('العربية', 'NNP'), ('التي', 'NNP'), ('بدأت', 'NNP'), ('في', 'NNP'), ('هذا', 'NNP'), ('الوقت', 'NNP'), ('بعمل', 'NNP'), ('الخوارزمي', 'NNP'), ('وهي', 'NNP'), ('بدايات', 'NNP'), ('الجبر', 'NNP'), ('ومن', 'NNP'), ('المهم', 'NNP'), ('فهم', 'NNP'), ('كيف', 'NNP'), ('كانت', 'NNP'), ('هذه', 'NNP'), ('الفكرة', 'NNP'), ('الجديدة', 'NNP'), ('مهمة', 'NNP'), ('فقد', 'NNP'), ('كانت', 'NNP'), ('خطوة', 'NNP'), ('نورية', 'NNP'), ('بعيدا', 'NNP'), ('عن', 'NNP'), ('المفهوم', 'NNP'), ('اليوناني', 'NNP'), ('للرياضيات', 'NNP'), ('التي', 'NNP'), ('هي', 'NNP'), ('في', 'NNP'), ('جوهرها', 'NNP'), ('هندسة', 'NNP'), ('الجبر', 'NNP'), ('کان', 'NNP'), ('نظرية', 'NNP'), ('موحدة', 'NNP'), ('تتيح', 'NNP'), ('الأعداد', 'NNP'), ('الكسرية', 'NNP'), ('والأعداد', 'NNP'), ('اللا', 'NNP'), ('كسرية', 'NNP'), ('والمقادير', 'NNP'), ('الهندسية', 'NNP'), ('وغيرها', 'NNP'), ('أن', 'NNP'), ('تتعامل', 'NNP'), ('على', 'NNP'), ('أنها', 'NNP'), ('أجسام', 'NNP'), ('جبرية', 'NNP'), ('وأعطت', 'NNP'), ('الرياضيات', 'NNP'), ('ككل', 'NNP'), ('مسارا', 'NNP'), ('جديدا', 'NNP'), ('للتطور', 'NNP'), ('بمفهوم', 'NNP'), ('أوسع', 'NNP'), ('بكثير', 'NNP'), ('من', 'NNP'), ('الذي', 'NNP'), ('كان', 'NNP'), ('موجودا', 'NNP'), ('من', 'NNP'), ('قبل', 'NNP'), ('وقم', 'NNP'), ('وسيلة', 'NNP'), ('للتنمية', 'NNP'), ('في', 'NNP'), ('هذا', 'NNP'), ('الموضوع', 'NNP'), ('مستقبلا', 'NNP'), ('وجانب', 'NNP'), ('آخر', 'NNP'), ('مهم', 'NNP'), ('لإدخال', 'NNP'), ('أفكار', 'NNP'), ('الجبر', 'NNP'), ('وهو', 'NNP'), ('أنه', 'NNP'), ('سمح', 'NNP'), ('بتطبيق', 'NNP'), ('الرياضيات', 'NNP'), ('على', 'NNP'), ('نفسها', 'NNP'), ('بطريقة', 'NNP'), ('لم', 'NNP'), ('تحدث', 'NNP'), ('من', 'NNP'), ('قبل', 'NN')]\n"
     ]
    }
   ],
   "source": [
    "pos_words_arabic = pos_tag(words_arabic)\n",
    "print(pos_words_arabic )"
   ]
  },
  {
   "cell_type": "markdown",
   "id": "5db4bf82",
   "metadata": {},
   "source": [
    "## 4-lemmatization"
   ]
  },
  {
   "cell_type": "code",
   "execution_count": 75,
   "id": "b480112d",
   "metadata": {},
   "outputs": [
    {
     "name": "stdout",
     "output_type": "stream",
     "text": [
      "ربما\n",
      "كانت\n",
      "أحد\n",
      "أهم\n",
      "التطورات\n",
      "التي\n",
      "قامت\n",
      "بها\n",
      "الرياضيات\n",
      "العربية\n",
      "التي\n",
      "بدأت\n",
      "في\n",
      "هذا\n",
      "الوقت\n",
      "بعمل\n",
      "الخوارزمي\n",
      "وهي\n",
      "بدايات\n",
      "الجبر\n",
      "ومن\n",
      "المهم\n",
      "فهم\n",
      "كيف\n",
      "كانت\n",
      "هذه\n",
      "الفكرة\n",
      "الجديدة\n",
      "مهمة\n",
      "فقد\n",
      "كانت\n",
      "خطوة\n",
      "نورية\n",
      "بعيدا\n",
      "عن\n",
      "المفهوم\n",
      "اليوناني\n",
      "للرياضيات\n",
      "التي\n",
      "هي\n",
      "في\n",
      "جوهرها\n",
      "هندسة\n",
      "الجبر\n",
      "کان\n",
      "نظرية\n",
      "موحدة\n",
      "تتيح\n",
      "الأعداد\n",
      "الكسرية\n",
      "والأعداد\n",
      "اللا\n",
      "كسرية\n",
      "والمقادير\n",
      "الهندسية\n",
      "وغيرها\n",
      "أن\n",
      "تتعامل\n",
      "على\n",
      "أنها\n",
      "أجسام\n",
      "جبرية\n",
      "وأعطت\n",
      "الرياضيات\n",
      "ككل\n",
      "مسارا\n",
      "جديدا\n",
      "للتطور\n",
      "بمفهوم\n",
      "أوسع\n",
      "بكثير\n",
      "من\n",
      "الذي\n",
      "كان\n",
      "موجودا\n",
      "من\n",
      "قبل\n",
      "وقم\n",
      "وسيلة\n",
      "للتنمية\n",
      "في\n",
      "هذا\n",
      "الموضوع\n",
      "مستقبلا\n",
      "وجانب\n",
      "آخر\n",
      "مهم\n",
      "لإدخال\n",
      "أفكار\n",
      "الجبر\n",
      "وهو\n",
      "أنه\n",
      "سمح\n",
      "بتطبيق\n",
      "الرياضيات\n",
      "على\n",
      "نفسها\n",
      "بطريقة\n",
      "لم\n",
      "تحدث\n",
      "من\n",
      "قبل\n"
     ]
    }
   ],
   "source": [
    "lemmatizer=WordNetLemmatizer()\n",
    "for x in words_arabic:\n",
    "    print(lemmatizer.lemmatize(x))"
   ]
  },
  {
   "cell_type": "code",
   "execution_count": 79,
   "id": "b6b45749",
   "metadata": {},
   "outputs": [
    {
     "name": "stdout",
     "output_type": "stream",
     "text": [
      "Collecting watermark\n",
      "  Downloading watermark-2.2.0-py2.py3-none-any.whl (6.8 kB)\n",
      "Requirement already satisfied: ipython in c:\\users\\hala\\anaconda3\\lib\\site-packages (from watermark) (7.22.0)\n",
      "Requirement already satisfied: prompt-toolkit!=3.0.0,!=3.0.1,<3.1.0,>=2.0.0 in c:\\users\\hala\\anaconda3\\lib\\site-packages (from ipython->watermark) (3.0.17)\n",
      "Requirement already satisfied: decorator in c:\\users\\hala\\anaconda3\\lib\\site-packages (from ipython->watermark) (5.0.6)\n",
      "Requirement already satisfied: pickleshare in c:\\users\\hala\\anaconda3\\lib\\site-packages (from ipython->watermark) (0.7.5)\n",
      "Requirement already satisfied: jedi>=0.16 in c:\\users\\hala\\anaconda3\\lib\\site-packages (from ipython->watermark) (0.17.2)\n",
      "Requirement already satisfied: traitlets>=4.2 in c:\\users\\hala\\anaconda3\\lib\\site-packages (from ipython->watermark) (5.0.5)\n",
      "Requirement already satisfied: backcall in c:\\users\\hala\\anaconda3\\lib\\site-packages (from ipython->watermark) (0.2.0)\n",
      "Requirement already satisfied: setuptools>=18.5 in c:\\users\\hala\\anaconda3\\lib\\site-packages (from ipython->watermark) (52.0.0.post20210125)\n",
      "Requirement already satisfied: pygments in c:\\users\\hala\\anaconda3\\lib\\site-packages (from ipython->watermark) (2.8.1)\n",
      "Requirement already satisfied: colorama in c:\\users\\hala\\anaconda3\\lib\\site-packages (from ipython->watermark) (0.4.4)\n",
      "Requirement already satisfied: parso<0.8.0,>=0.7.0 in c:\\users\\hala\\anaconda3\\lib\\site-packages (from jedi>=0.16->ipython->watermark) (0.7.0)\n",
      "Requirement already satisfied: wcwidth in c:\\users\\hala\\anaconda3\\lib\\site-packages (from prompt-toolkit!=3.0.0,!=3.0.1,<3.1.0,>=2.0.0->ipython->watermark) (0.2.5)\n",
      "Requirement already satisfied: ipython-genutils in c:\\users\\hala\\anaconda3\\lib\\site-packages (from traitlets>=4.2->ipython->watermark) (0.2.0)\n",
      "Installing collected packages: watermark\n",
      "Successfully installed watermark-2.2.0\n",
      "Note: you may need to restart the kernel to use updated packages.\n"
     ]
    }
   ],
   "source": [
    "pip install watermark"
   ]
  },
  {
   "cell_type": "code",
   "execution_count": 80,
   "id": "19ea2f11",
   "metadata": {},
   "outputs": [],
   "source": [
    "%load_ext watermark"
   ]
  },
  {
   "cell_type": "code",
   "execution_count": 81,
   "id": "293f50fb",
   "metadata": {},
   "outputs": [
    {
     "name": "stdout",
     "output_type": "stream",
     "text": [
      "Python implementation: CPython\n",
      "Python version       : 3.8.8\n",
      "IPython version      : 7.22.0\n",
      "\n",
      "nltk: 3.6.1\n",
      "\n",
      "Compiler    : MSC v.1916 64 bit (AMD64)\n",
      "OS          : Windows\n",
      "Release     : 10\n",
      "Machine     : AMD64\n",
      "Processor   : Intel64 Family 6 Model 58 Stepping 9, GenuineIntel\n",
      "CPU cores   : 4\n",
      "Architecture: 64bit\n",
      "\n"
     ]
    }
   ],
   "source": [
    "%watermark -v -m -p nltk"
   ]
  },
  {
   "cell_type": "code",
   "execution_count": 82,
   "id": "4ae7763b",
   "metadata": {},
   "outputs": [
    {
     "name": "stdout",
     "output_type": "stream",
     "text": [
      "re  : 2.2.1\n",
      "nltk: 3.6.1\n",
      "\n"
     ]
    }
   ],
   "source": [
    "%watermark --iversions"
   ]
  },
  {
   "cell_type": "code",
   "execution_count": null,
   "id": "d335839c",
   "metadata": {},
   "outputs": [],
   "source": []
  }
 ],
 "metadata": {
  "kernelspec": {
   "display_name": "Python 3",
   "language": "python",
   "name": "python3"
  },
  "language_info": {
   "codemirror_mode": {
    "name": "ipython",
    "version": 3
   },
   "file_extension": ".py",
   "mimetype": "text/x-python",
   "name": "python",
   "nbconvert_exporter": "python",
   "pygments_lexer": "ipython3",
   "version": "3.8.8"
  }
 },
 "nbformat": 4,
 "nbformat_minor": 5
}
